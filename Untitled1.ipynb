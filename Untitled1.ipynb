{
 "cells": [
  {
   "cell_type": "code",
   "execution_count": 18,
   "metadata": {},
   "outputs": [],
   "source": [
    "import numpy as np\n",
    "import gym\n",
    "import random\n",
    "from IPython.display import clear_output\n",
    "import time"
   ]
  },
  {
   "cell_type": "code",
   "execution_count": 5,
   "metadata": {},
   "outputs": [],
   "source": [
    "env = gym.make(\"FrozenLake-v0\")"
   ]
  },
  {
   "cell_type": "code",
   "execution_count": 6,
   "metadata": {},
   "outputs": [
    {
     "name": "stdout",
     "output_type": "stream",
     "text": [
      "[[0. 0. 0. 0.]\n",
      " [0. 0. 0. 0.]\n",
      " [0. 0. 0. 0.]\n",
      " [0. 0. 0. 0.]\n",
      " [0. 0. 0. 0.]\n",
      " [0. 0. 0. 0.]\n",
      " [0. 0. 0. 0.]\n",
      " [0. 0. 0. 0.]\n",
      " [0. 0. 0. 0.]\n",
      " [0. 0. 0. 0.]\n",
      " [0. 0. 0. 0.]\n",
      " [0. 0. 0. 0.]\n",
      " [0. 0. 0. 0.]\n",
      " [0. 0. 0. 0.]\n",
      " [0. 0. 0. 0.]\n",
      " [0. 0. 0. 0.]]\n"
     ]
    }
   ],
   "source": [
    "action_space_size = env.action_space.n\n",
    "state_space_size = env.observation_space.n\n",
    "q_table = np.zeros((state_space_size,action_space_size))\n",
    "print(q_table)"
   ]
  },
  {
   "cell_type": "code",
   "execution_count": 20,
   "metadata": {},
   "outputs": [],
   "source": [
    "num_episodes =20000\n",
    "max_step_per_episode =100\n",
    "learning_rate = 0.1\n",
    "discount_rate = 0.99\n",
    "exploration_rate = 1\n",
    "max_exploration_rate = 1\n",
    "min_exploration_rate = 0.01\n",
    "exploration_decay_rate = 0.001"
   ]
  },
  {
   "cell_type": "code",
   "execution_count": 21,
   "metadata": {},
   "outputs": [
    {
     "name": "stdout",
     "output_type": "stream",
     "text": [
      "average reward per thousand episodes \n",
      "\n",
      "1000 :  0.05600000000000004\n",
      "2000 :  0.20800000000000016\n",
      "3000 :  0.4010000000000003\n",
      "4000 :  0.5030000000000003\n",
      "5000 :  0.6330000000000005\n",
      "6000 :  0.6730000000000005\n",
      "7000 :  0.6640000000000005\n",
      "8000 :  0.6920000000000005\n",
      "9000 :  0.6850000000000005\n",
      "10000 :  0.7020000000000005\n",
      "11000 :  0.6800000000000005\n",
      "12000 :  0.6850000000000005\n",
      "13000 :  0.6710000000000005\n",
      "14000 :  0.6930000000000005\n",
      "15000 :  0.6910000000000005\n",
      "16000 :  0.6940000000000005\n",
      "17000 :  0.6760000000000005\n",
      "18000 :  0.6780000000000005\n",
      "19000 :  0.7120000000000005\n",
      "20000 :  0.7220000000000005\n",
      "\n",
      "\n",
      " Q-table\n",
      "[[0.53129511 0.52047587 0.51986486 0.52093803]\n",
      " [0.37153441 0.2795169  0.35046827 0.49101024]\n",
      " [0.4388957  0.42929411 0.41839081 0.46650692]\n",
      " [0.30721574 0.4008733  0.37325777 0.45629135]\n",
      " [0.55219299 0.499932   0.32880754 0.37448332]\n",
      " [0.         0.         0.         0.        ]\n",
      " [0.19271604 0.13438513 0.47077453 0.16581021]\n",
      " [0.         0.         0.         0.        ]\n",
      " [0.34537075 0.4380547  0.38055933 0.57891979]\n",
      " [0.38324959 0.64853359 0.36334248 0.4624742 ]\n",
      " [0.66226902 0.45958519 0.39130153 0.35317305]\n",
      " [0.         0.         0.         0.        ]\n",
      " [0.         0.         0.         0.        ]\n",
      " [0.50683176 0.50159117 0.72534119 0.44120066]\n",
      " [0.7079343  0.85498026 0.76855106 0.75261982]\n",
      " [0.         0.         0.         0.        ]]\n"
     ]
    }
   ],
   "source": [
    "rewards_all_episodes =[]\n",
    "\n",
    "for episode in range(num_episodes):\n",
    "    state = env.reset()\n",
    "    \n",
    "    done = False\n",
    "    rewards_current_episode =0\n",
    "    \n",
    "    for step in range(max_step_per_episode):\n",
    "        \n",
    "        exploration_rate_threshold = random.uniform(0,1)\n",
    "        if exploration_rate_threshold > exploration_rate:\n",
    "            action = np.argmax(q_table[state,:])\n",
    "        else:\n",
    "            action = env.action_space.sample()\n",
    "        new_state, reward,done, info =env.step(action)\n",
    "        \n",
    "        q_table[state, action] = q_table[state, action] * (1 - learning_rate) + \\\n",
    "        learning_rate * (reward + discount_rate * np.max(q_table[new_state, :]))\n",
    "    \n",
    "        state = new_state\n",
    "        rewards_current_episode += reward\n",
    "    \n",
    "        if done == True:\n",
    "            break\n",
    "    \n",
    "        exploration_rate = min_exploration_rate + \\\n",
    "        (max_exploration_rate - min_exploration_rate) * np.exp(-exploration_decay_rate*episode)\n",
    "    \n",
    "    rewards_all_episodes.append(rewards_current_episode)\n",
    "\n",
    "rewards_per_thousand_episodes = np.split(np.array(rewards_all_episodes),num_episodes/1000)\n",
    "count = 1000\n",
    "\n",
    "print(\"average reward per thousand episodes \\n\")\n",
    "for r in rewards_per_thousand_episodes:\n",
    "    print(count, \": \",str(sum(r/1000)))\n",
    "    count+=1000\n",
    "    \n",
    "print(\"\\n\\n Q-table\")\n",
    "print(q_table)\n",
    "                "
   ]
  },
  {
   "cell_type": "code",
   "execution_count": 23,
   "metadata": {},
   "outputs": [
    {
     "name": "stdout",
     "output_type": "stream",
     "text": [
      "  (Down)\n",
      "SFFF\n",
      "FHFH\n",
      "FFFH\n",
      "HFF\u001b[41mG\u001b[0m\n",
      " You reached the goal\n"
     ]
    }
   ],
   "source": [
    "for episode in range(3):\n",
    "    state = env.reset()\n",
    "    done = False\n",
    "    print(\"****** EPISODE \",episode+1,\"******\\n\\n\\n\\n\")\n",
    "    time.sleep(1)\n",
    "    for step in range(max_step_per_episode):\n",
    "        clear_output(wait=True)\n",
    "        env.render()\n",
    "        time.sleep(0.3)\n",
    "        \n",
    "        action = np.argmax(q_table[state,:])\n",
    "        new_state,reward,done,info = env.step(action)\n",
    "        if done:\n",
    "            clear_output(wait =True)\n",
    "            env.render()\n",
    "            if reward ==1:\n",
    "                print(\" You reached the goal\")\n",
    "            else:\n",
    "                print(\"you fell through a hole\")\n",
    "                time.sleep(3)\n",
    "            clear_output(wait =True)\n",
    "            break\n",
    "        state = new_state\n",
    "env.close()"
   ]
  },
  {
   "cell_type": "code",
   "execution_count": null,
   "metadata": {},
   "outputs": [],
   "source": []
  }
 ],
 "metadata": {
  "kernelspec": {
   "display_name": "Python 3",
   "language": "python",
   "name": "python3"
  },
  "language_info": {
   "codemirror_mode": {
    "name": "ipython",
    "version": 3
   },
   "file_extension": ".py",
   "mimetype": "text/x-python",
   "name": "python",
   "nbconvert_exporter": "python",
   "pygments_lexer": "ipython3",
   "version": "3.8.6"
  }
 },
 "nbformat": 4,
 "nbformat_minor": 4
}
